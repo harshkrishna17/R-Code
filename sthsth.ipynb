{
 "cells": [
  {
   "cell_type": "code",
   "execution_count": 9,
   "metadata": {},
   "outputs": [
    {
     "name": "stderr",
     "output_type": "stream",
     "text": [
      "\n",
      "\n",
      "  0%|          | 0/19 [00:00<?, ?it/s]\u001b[A\u001b[A\n",
      "\n",
      "  5%|â         | 1/19 [00:12<03:45, 12.54s/it]\u001b[A\u001b[A"
     ]
    },
    {
     "name": "stdout",
     "output_type": "stream",
     "text": [
      "Saved\n"
     ]
    },
    {
     "name": "stderr",
     "output_type": "stream",
     "text": [
      "\n",
      "\n",
      " 11%|â         | 2/19 [00:22<03:21, 11.84s/it]\u001b[A\u001b[A"
     ]
    },
    {
     "name": "stdout",
     "output_type": "stream",
     "text": [
      "Saved\n"
     ]
    },
    {
     "name": "stderr",
     "output_type": "stream",
     "text": [
      "\n",
      "\n",
      " 16%|ââ        | 3/19 [00:32<03:01, 11.32s/it]\u001b[A\u001b[A"
     ]
    },
    {
     "name": "stdout",
     "output_type": "stream",
     "text": [
      "Saved\n"
     ]
    },
    {
     "name": "stderr",
     "output_type": "stream",
     "text": [
      "\n",
      "\n",
      " 21%|ââ        | 4/19 [00:44<02:52, 11.52s/it]\u001b[A\u001b[A"
     ]
    },
    {
     "name": "stdout",
     "output_type": "stream",
     "text": [
      "Saved\n"
     ]
    },
    {
     "name": "stderr",
     "output_type": "stream",
     "text": [
      "\n",
      "\n",
      " 26%|âââ       | 5/19 [00:57<02:45, 11.81s/it]\u001b[A\u001b[A"
     ]
    },
    {
     "name": "stdout",
     "output_type": "stream",
     "text": [
      "Saved\n"
     ]
    },
    {
     "name": "stderr",
     "output_type": "stream",
     "text": [
      "\n",
      "\n",
      " 32%|ââââ      | 6/19 [01:08<02:31, 11.63s/it]\u001b[A\u001b[A"
     ]
    },
    {
     "name": "stdout",
     "output_type": "stream",
     "text": [
      "Saved\n"
     ]
    },
    {
     "name": "stderr",
     "output_type": "stream",
     "text": [
      "\n",
      "\n",
      " 37%|ââââ      | 7/19 [01:20<02:21, 11.79s/it]\u001b[A\u001b[A"
     ]
    },
    {
     "name": "stdout",
     "output_type": "stream",
     "text": [
      "Saved\n"
     ]
    },
    {
     "name": "stderr",
     "output_type": "stream",
     "text": [
      "\n",
      "\n",
      " 42%|âââââ     | 8/19 [01:31<02:07, 11.59s/it]\u001b[A\u001b[A"
     ]
    },
    {
     "name": "stdout",
     "output_type": "stream",
     "text": [
      "Saved\n"
     ]
    },
    {
     "name": "stderr",
     "output_type": "stream",
     "text": [
      "\n",
      "\n",
      " 47%|âââââ     | 9/19 [01:41<01:50, 11.04s/it]\u001b[A\u001b[A"
     ]
    },
    {
     "name": "stdout",
     "output_type": "stream",
     "text": [
      "Saved\n"
     ]
    },
    {
     "name": "stderr",
     "output_type": "stream",
     "text": [
      "\n",
      "\n",
      " 53%|ââââââ    | 10/19 [01:53<01:42, 11.44s/it]\u001b[A\u001b[A"
     ]
    },
    {
     "name": "stdout",
     "output_type": "stream",
     "text": [
      "Saved\n"
     ]
    },
    {
     "name": "stderr",
     "output_type": "stream",
     "text": [
      "\n",
      "\n",
      " 58%|ââââââ    | 11/19 [02:05<01:30, 11.36s/it]\u001b[A\u001b[A"
     ]
    },
    {
     "name": "stdout",
     "output_type": "stream",
     "text": [
      "Saved\n"
     ]
    },
    {
     "name": "stderr",
     "output_type": "stream",
     "text": [
      "\n",
      "\n",
      " 63%|âââââââ   | 12/19 [02:14<01:16, 10.86s/it]\u001b[A\u001b[A"
     ]
    },
    {
     "name": "stdout",
     "output_type": "stream",
     "text": [
      "Saved\n"
     ]
    },
    {
     "name": "stderr",
     "output_type": "stream",
     "text": [
      "\n",
      "\n",
      " 68%|âââââââ   | 13/19 [02:24<01:03, 10.51s/it]\u001b[A\u001b[A"
     ]
    },
    {
     "name": "stdout",
     "output_type": "stream",
     "text": [
      "Saved\n"
     ]
    },
    {
     "name": "stderr",
     "output_type": "stream",
     "text": [
      "\n",
      "\n",
      " 74%|ââââââââ  | 14/19 [02:36<00:54, 10.82s/it]\u001b[A\u001b[A"
     ]
    },
    {
     "name": "stdout",
     "output_type": "stream",
     "text": [
      "Saved\n"
     ]
    },
    {
     "name": "stderr",
     "output_type": "stream",
     "text": [
      "\n",
      "\n",
      " 79%|ââââââââ  | 15/19 [02:48<00:44, 11.23s/it]\u001b[A\u001b[A"
     ]
    },
    {
     "name": "stdout",
     "output_type": "stream",
     "text": [
      "Saved\n"
     ]
    },
    {
     "name": "stderr",
     "output_type": "stream",
     "text": [
      "\n",
      "\n",
      " 84%|âââââââââ | 16/19 [02:57<00:32, 10.77s/it]\u001b[A\u001b[A"
     ]
    },
    {
     "name": "stdout",
     "output_type": "stream",
     "text": [
      "Saved\n"
     ]
    },
    {
     "name": "stderr",
     "output_type": "stream",
     "text": [
      "\n",
      "\n",
      " 89%|âââââââââ | 17/19 [03:09<00:22, 11.05s/it]\u001b[A\u001b[A"
     ]
    },
    {
     "name": "stdout",
     "output_type": "stream",
     "text": [
      "Saved\n"
     ]
    },
    {
     "name": "stderr",
     "output_type": "stream",
     "text": [
      "\n",
      "\n",
      " 95%|ââââââââââ| 18/19 [03:19<00:10, 10.80s/it]\u001b[A\u001b[A"
     ]
    },
    {
     "name": "stdout",
     "output_type": "stream",
     "text": [
      "Saved\n"
     ]
    },
    {
     "name": "stderr",
     "output_type": "stream",
     "text": [
      "\n",
      "\n",
      "100%|ââââââââââ| 19/19 [03:32<00:00, 11.18s/it]\u001b[A\u001b[A"
     ]
    },
    {
     "name": "stdout",
     "output_type": "stream",
     "text": [
      "Saved\n"
     ]
    },
    {
     "name": "stderr",
     "output_type": "stream",
     "text": [
      "\n"
     ]
    }
   ],
   "source": [
    "import json\n",
    "import time\n",
    "import random\n",
    "import os\n",
    "from bs4 import BeautifulSoup\n",
    "from tqdm import tqdm\n",
    "\n",
    "from selenium import webdriver\n",
    "import numpy as np\n",
    "\n",
    "\n",
    "driver = webdriver.Chrome(executable_path=r\"/Users/michaelnazarian/Jupyter Projects/Scrape/chromedriver\") ##path to your operadriver executable\n",
    "time.sleep(20)\n",
    "\n",
    "def get_match_ids(url, n=1):\n",
    "    \"\"\"Returns the match_ids for the number of months you run the for loop.\n",
    "\n",
    "          Params:\n",
    "                n: number of iterations/months (for current month and previous, pass n = 1. For current and last two, n=2 etc)\n",
    "                url: url should point to the fixtures page of any league (eg: https://www.whoscored.com/Regions/252/Tournaments/2/Seasons/7811/Stages/17590/Fixtures/England-Premier-League-2019-2020)\n",
    "\n",
    "          WARNING:/NOTE Returns matches not played out as well but in the same month.\n",
    "\n",
    "          TODO: Nothing added to make sure the 'accept and continue' page works. Maybe add that or ensure that works.\n",
    "\n",
    "#     \"\"\"\n",
    "\n",
    "    all_match_ids = []\n",
    "    driver.get(url)\n",
    "    time.sleep(random.randrange(4, 10))\n",
    "\n",
    "    for i in range(n):\n",
    "        time.sleep(random.randrange(3,12))\n",
    "        els = driver.find_elements_by_xpath(\"//*[contains(@class, 'result-1 rc')]\")\n",
    "        if len(els) != 0:\n",
    "            match_links = [el.get_attribute('href') for el in els]\n",
    "            match_ids = [s.split(\"Matches/\")[-1].split(\"/Show\")[0].split(\"/Live\", 1)[0] for s in match_links]\n",
    "            all_match_ids.extend(match_ids)\n",
    "\n",
    "        previous_el = driver.find_element_by_xpath(\"/html/body/div[4]/div[3]/div[1]/div[5]/div/div/a[1]/span\").click()  # clicks the previous month button ##\n",
    "                                                  ##/html/body/div[5]/div[2]/div[2]/div[6]/dl/dd/div/a[1]/span        (sometimes it's this one)\n",
    "                                                  ##/html/body/div[5]/div[3]/div[1]/div[5]/div/div\n",
    "    \n",
    "        time.sleep(random.randrange(4, 6))\n",
    "        \n",
    "    return all_match_ids\n",
    "\n",
    "\n",
    "url = \"https://1xbet.whoscored.com/Regions/252/Tournaments/2/England-Premier-League\" ##no need to mess with this if you're putting in match_ids manually\n",
    "\n",
    "match_ids = get_match_ids(url=url, n=3) ##run to get match_ids\n",
    "np.save(\"EPL_2021_22_match_ids.npy\", match_ids)\n",
    "              \n",
    "#match_ids = [347977]\n",
    "\n",
    "directory = \"/Users/michaelnazarian/Downloads/TestFiles\"\n",
    "urls = [f\"https://1xbet.whoscored.com/Matches/{match_id}/Live\" for match_id in match_ids]\n",
    "\n",
    "\n",
    "time.sleep(15)\n",
    "for url in tqdm(list(set(urls))):\n",
    "    match_id = url.split(\"Matches/\")[-1].split(\"/Live\")[0]\n",
    "    time.sleep(2)\n",
    "    driver.get(url)\n",
    "\n",
    "    time.sleep(random.randrange(5, 9)) ##give the page a chance to load. This especially takes time if you have a VPN (even more so if set to some other continent). But if you don't use VPN, run the chance to get blocked. IIWII\n",
    "    source = driver.page_source\n",
    "    if \"matchCentreData: null\" not in source:\n",
    "        \n",
    "        sub_str = source.split(\"matchCentreEventTypeJson\")[0].split(\"matchCentreData: \")[-1].strip()\n",
    "        final_str = sub_str.strip().rpartition(\",\")[0]\n",
    "        obj = json.loads(final_str) ##final event json dict\n",
    "\n",
    "        ##save everything\n",
    "        home = obj[\"home\"][\"name\"]\n",
    "        away = obj[\"away\"][\"name\"]\n",
    "        file_name = os.path.join(directory, match_id + \"_\" + home + \"_\" + away + \".json\")\n",
    "\n",
    "        with open(file_name, \"w\") as f:\n",
    "            json.dump(obj, f)\n",
    "        print(\"Saved\")\n",
    "##"
   ]
  },
  {
   "cell_type": "code",
   "execution_count": 29,
   "metadata": {},
   "outputs": [],
   "source": [
    "with open(r\"/Users/michaelnazarian/Downloads/TestFiles/1516644_Atletico_Chelsea.json\") as f:\n",
    "    data = json.load(f)"
   ]
  },
  {
   "cell_type": "code",
   "execution_count": 31,
   "metadata": {},
   "outputs": [
    {
     "data": {
      "text/plain": [
       "dict_keys(['playerIdNameDictionary', 'periodMinuteLimits', 'timeStamp', 'attendance', 'venueName', 'referee', 'weatherCode', 'elapsed', 'startTime', 'startDate', 'score', 'htScore', 'ftScore', 'etScore', 'pkScore', 'statusCode', 'periodCode', 'home', 'away', 'maxMinute', 'minuteExpanded', 'maxPeriod', 'expandedMinutes', 'expandedMaxMinute', 'periodEndMinutes', 'commonEvents', 'events', 'timeoutInSeconds'])"
      ]
     },
     "execution_count": 31,
     "metadata": {},
     "output_type": "execute_result"
    }
   ],
   "source": [
    "data.keys()"
   ]
  },
  {
   "cell_type": "code",
   "execution_count": 38,
   "metadata": {},
   "outputs": [
    {
     "data": {
      "text/html": [
       "<div>\n",
       "<style scoped>\n",
       "    .dataframe tbody tr th:only-of-type {\n",
       "        vertical-align: middle;\n",
       "    }\n",
       "\n",
       "    .dataframe tbody tr th {\n",
       "        vertical-align: top;\n",
       "    }\n",
       "\n",
       "    .dataframe thead th {\n",
       "        text-align: right;\n",
       "    }\n",
       "</style>\n",
       "<table border=\"1\" class=\"dataframe\">\n",
       "  <thead>\n",
       "    <tr style=\"text-align: right;\">\n",
       "      <th></th>\n",
       "      <th>id</th>\n",
       "      <th>eventId</th>\n",
       "      <th>minute</th>\n",
       "      <th>second</th>\n",
       "      <th>teamId</th>\n",
       "      <th>x</th>\n",
       "      <th>y</th>\n",
       "      <th>expandedMinute</th>\n",
       "      <th>qualifiers</th>\n",
       "      <th>satisfiedEventsTypes</th>\n",
       "      <th>...</th>\n",
       "      <th>cardType_value</th>\n",
       "      <th>cardType_displayName</th>\n",
       "      <th>relatedEventId</th>\n",
       "      <th>relatedPlayerId</th>\n",
       "      <th>goalMouthZ</th>\n",
       "      <th>goalMouthY</th>\n",
       "      <th>isShot</th>\n",
       "      <th>blockedX</th>\n",
       "      <th>blockedY</th>\n",
       "      <th>isGoal</th>\n",
       "    </tr>\n",
       "  </thead>\n",
       "  <tbody>\n",
       "    <tr>\n",
       "      <td>0</td>\n",
       "      <td>2.268212e+09</td>\n",
       "      <td>2</td>\n",
       "      <td>0</td>\n",
       "      <td>0</td>\n",
       "      <td>63</td>\n",
       "      <td>0.0</td>\n",
       "      <td>0.0</td>\n",
       "      <td>0</td>\n",
       "      <td>[]</td>\n",
       "      <td>[]</td>\n",
       "      <td>...</td>\n",
       "      <td>NaN</td>\n",
       "      <td>NaN</td>\n",
       "      <td>NaN</td>\n",
       "      <td>NaN</td>\n",
       "      <td>NaN</td>\n",
       "      <td>NaN</td>\n",
       "      <td>NaN</td>\n",
       "      <td>NaN</td>\n",
       "      <td>NaN</td>\n",
       "      <td>NaN</td>\n",
       "    </tr>\n",
       "    <tr>\n",
       "      <td>1</td>\n",
       "      <td>2.268212e+09</td>\n",
       "      <td>2</td>\n",
       "      <td>0</td>\n",
       "      <td>0</td>\n",
       "      <td>15</td>\n",
       "      <td>0.0</td>\n",
       "      <td>0.0</td>\n",
       "      <td>0</td>\n",
       "      <td>[]</td>\n",
       "      <td>[]</td>\n",
       "      <td>...</td>\n",
       "      <td>NaN</td>\n",
       "      <td>NaN</td>\n",
       "      <td>NaN</td>\n",
       "      <td>NaN</td>\n",
       "      <td>NaN</td>\n",
       "      <td>NaN</td>\n",
       "      <td>NaN</td>\n",
       "      <td>NaN</td>\n",
       "      <td>NaN</td>\n",
       "      <td>NaN</td>\n",
       "    </tr>\n",
       "    <tr>\n",
       "      <td>2</td>\n",
       "      <td>2.268212e+09</td>\n",
       "      <td>3</td>\n",
       "      <td>0</td>\n",
       "      <td>1</td>\n",
       "      <td>15</td>\n",
       "      <td>49.8</td>\n",
       "      <td>50.0</td>\n",
       "      <td>0</td>\n",
       "      <td>[{'type': {'value': 213, 'displayName': 'Angle...</td>\n",
       "      <td>[90, 116, 29, 34, 36, 215, 217]</td>\n",
       "      <td>...</td>\n",
       "      <td>NaN</td>\n",
       "      <td>NaN</td>\n",
       "      <td>NaN</td>\n",
       "      <td>NaN</td>\n",
       "      <td>NaN</td>\n",
       "      <td>NaN</td>\n",
       "      <td>NaN</td>\n",
       "      <td>NaN</td>\n",
       "      <td>NaN</td>\n",
       "      <td>NaN</td>\n",
       "    </tr>\n",
       "    <tr>\n",
       "      <td>3</td>\n",
       "      <td>2.268213e+09</td>\n",
       "      <td>13</td>\n",
       "      <td>0</td>\n",
       "      <td>2</td>\n",
       "      <td>15</td>\n",
       "      <td>38.2</td>\n",
       "      <td>62.1</td>\n",
       "      <td>0</td>\n",
       "      <td>[{'type': {'value': 213, 'displayName': 'Angle...</td>\n",
       "      <td>[90, 116, 29, 34, 37, 215, 217]</td>\n",
       "      <td>...</td>\n",
       "      <td>NaN</td>\n",
       "      <td>NaN</td>\n",
       "      <td>NaN</td>\n",
       "      <td>NaN</td>\n",
       "      <td>NaN</td>\n",
       "      <td>NaN</td>\n",
       "      <td>NaN</td>\n",
       "      <td>NaN</td>\n",
       "      <td>NaN</td>\n",
       "      <td>NaN</td>\n",
       "    </tr>\n",
       "    <tr>\n",
       "      <td>4</td>\n",
       "      <td>2.268212e+09</td>\n",
       "      <td>4</td>\n",
       "      <td>0</td>\n",
       "      <td>3</td>\n",
       "      <td>15</td>\n",
       "      <td>37.4</td>\n",
       "      <td>52.4</td>\n",
       "      <td>0</td>\n",
       "      <td>[{'type': {'value': 212, 'displayName': 'Lengt...</td>\n",
       "      <td>[90, 116, 29, 35, 36, 215, 217]</td>\n",
       "      <td>...</td>\n",
       "      <td>NaN</td>\n",
       "      <td>NaN</td>\n",
       "      <td>NaN</td>\n",
       "      <td>NaN</td>\n",
       "      <td>NaN</td>\n",
       "      <td>NaN</td>\n",
       "      <td>NaN</td>\n",
       "      <td>NaN</td>\n",
       "      <td>NaN</td>\n",
       "      <td>NaN</td>\n",
       "    </tr>\n",
       "    <tr>\n",
       "      <td>...</td>\n",
       "      <td>...</td>\n",
       "      <td>...</td>\n",
       "      <td>...</td>\n",
       "      <td>...</td>\n",
       "      <td>...</td>\n",
       "      <td>...</td>\n",
       "      <td>...</td>\n",
       "      <td>...</td>\n",
       "      <td>...</td>\n",
       "      <td>...</td>\n",
       "      <td>...</td>\n",
       "      <td>...</td>\n",
       "      <td>...</td>\n",
       "      <td>...</td>\n",
       "      <td>...</td>\n",
       "      <td>...</td>\n",
       "      <td>...</td>\n",
       "      <td>...</td>\n",
       "      <td>...</td>\n",
       "      <td>...</td>\n",
       "      <td>...</td>\n",
       "    </tr>\n",
       "    <tr>\n",
       "      <td>1721</td>\n",
       "      <td>2.268281e+09</td>\n",
       "      <td>1088</td>\n",
       "      <td>96</td>\n",
       "      <td>15</td>\n",
       "      <td>15</td>\n",
       "      <td>0.0</td>\n",
       "      <td>0.0</td>\n",
       "      <td>98</td>\n",
       "      <td>[]</td>\n",
       "      <td>[]</td>\n",
       "      <td>...</td>\n",
       "      <td>NaN</td>\n",
       "      <td>NaN</td>\n",
       "      <td>NaN</td>\n",
       "      <td>NaN</td>\n",
       "      <td>NaN</td>\n",
       "      <td>NaN</td>\n",
       "      <td>NaN</td>\n",
       "      <td>NaN</td>\n",
       "      <td>NaN</td>\n",
       "      <td>NaN</td>\n",
       "    </tr>\n",
       "    <tr>\n",
       "      <td>1722</td>\n",
       "      <td>2.268281e+09</td>\n",
       "      <td>789</td>\n",
       "      <td>0</td>\n",
       "      <td>0</td>\n",
       "      <td>63</td>\n",
       "      <td>0.0</td>\n",
       "      <td>0.0</td>\n",
       "      <td>8</td>\n",
       "      <td>[]</td>\n",
       "      <td>[]</td>\n",
       "      <td>...</td>\n",
       "      <td>NaN</td>\n",
       "      <td>NaN</td>\n",
       "      <td>NaN</td>\n",
       "      <td>NaN</td>\n",
       "      <td>NaN</td>\n",
       "      <td>NaN</td>\n",
       "      <td>NaN</td>\n",
       "      <td>NaN</td>\n",
       "      <td>NaN</td>\n",
       "      <td>NaN</td>\n",
       "    </tr>\n",
       "    <tr>\n",
       "      <td>1723</td>\n",
       "      <td>2.268281e+09</td>\n",
       "      <td>1089</td>\n",
       "      <td>0</td>\n",
       "      <td>0</td>\n",
       "      <td>15</td>\n",
       "      <td>0.0</td>\n",
       "      <td>0.0</td>\n",
       "      <td>8</td>\n",
       "      <td>[]</td>\n",
       "      <td>[]</td>\n",
       "      <td>...</td>\n",
       "      <td>NaN</td>\n",
       "      <td>NaN</td>\n",
       "      <td>NaN</td>\n",
       "      <td>NaN</td>\n",
       "      <td>NaN</td>\n",
       "      <td>NaN</td>\n",
       "      <td>NaN</td>\n",
       "      <td>NaN</td>\n",
       "      <td>NaN</td>\n",
       "      <td>NaN</td>\n",
       "    </tr>\n",
       "    <tr>\n",
       "      <td>1724</td>\n",
       "      <td>2.268156e+09</td>\n",
       "      <td>1</td>\n",
       "      <td>0</td>\n",
       "      <td>0</td>\n",
       "      <td>15</td>\n",
       "      <td>0.0</td>\n",
       "      <td>0.0</td>\n",
       "      <td>0</td>\n",
       "      <td>[{'type': {'value': 130, 'displayName': 'TeamF...</td>\n",
       "      <td>[]</td>\n",
       "      <td>...</td>\n",
       "      <td>NaN</td>\n",
       "      <td>NaN</td>\n",
       "      <td>NaN</td>\n",
       "      <td>NaN</td>\n",
       "      <td>NaN</td>\n",
       "      <td>NaN</td>\n",
       "      <td>NaN</td>\n",
       "      <td>NaN</td>\n",
       "      <td>NaN</td>\n",
       "      <td>NaN</td>\n",
       "    </tr>\n",
       "    <tr>\n",
       "      <td>1725</td>\n",
       "      <td>2.268157e+09</td>\n",
       "      <td>1</td>\n",
       "      <td>0</td>\n",
       "      <td>0</td>\n",
       "      <td>63</td>\n",
       "      <td>0.0</td>\n",
       "      <td>0.0</td>\n",
       "      <td>0</td>\n",
       "      <td>[{'type': {'value': 30, 'displayName': 'Involv...</td>\n",
       "      <td>[]</td>\n",
       "      <td>...</td>\n",
       "      <td>NaN</td>\n",
       "      <td>NaN</td>\n",
       "      <td>NaN</td>\n",
       "      <td>NaN</td>\n",
       "      <td>NaN</td>\n",
       "      <td>NaN</td>\n",
       "      <td>NaN</td>\n",
       "      <td>NaN</td>\n",
       "      <td>NaN</td>\n",
       "      <td>NaN</td>\n",
       "    </tr>\n",
       "  </tbody>\n",
       "</table>\n",
       "<p>1726 rows Ã 30 columns</p>\n",
       "</div>"
      ],
      "text/plain": [
       "                id  eventId  minute  second  teamId     x     y  \\\n",
       "0     2.268212e+09        2       0       0      63   0.0   0.0   \n",
       "1     2.268212e+09        2       0       0      15   0.0   0.0   \n",
       "2     2.268212e+09        3       0       1      15  49.8  50.0   \n",
       "3     2.268213e+09       13       0       2      15  38.2  62.1   \n",
       "4     2.268212e+09        4       0       3      15  37.4  52.4   \n",
       "...            ...      ...     ...     ...     ...   ...   ...   \n",
       "1721  2.268281e+09     1088      96      15      15   0.0   0.0   \n",
       "1722  2.268281e+09      789       0       0      63   0.0   0.0   \n",
       "1723  2.268281e+09     1089       0       0      15   0.0   0.0   \n",
       "1724  2.268156e+09        1       0       0      15   0.0   0.0   \n",
       "1725  2.268157e+09        1       0       0      63   0.0   0.0   \n",
       "\n",
       "      expandedMinute                                         qualifiers  \\\n",
       "0                  0                                                 []   \n",
       "1                  0                                                 []   \n",
       "2                  0  [{'type': {'value': 213, 'displayName': 'Angle...   \n",
       "3                  0  [{'type': {'value': 213, 'displayName': 'Angle...   \n",
       "4                  0  [{'type': {'value': 212, 'displayName': 'Lengt...   \n",
       "...              ...                                                ...   \n",
       "1721              98                                                 []   \n",
       "1722               8                                                 []   \n",
       "1723               8                                                 []   \n",
       "1724               0  [{'type': {'value': 130, 'displayName': 'TeamF...   \n",
       "1725               0  [{'type': {'value': 30, 'displayName': 'Involv...   \n",
       "\n",
       "                 satisfiedEventsTypes  ...  cardType_value  \\\n",
       "0                                  []  ...             NaN   \n",
       "1                                  []  ...             NaN   \n",
       "2     [90, 116, 29, 34, 36, 215, 217]  ...             NaN   \n",
       "3     [90, 116, 29, 34, 37, 215, 217]  ...             NaN   \n",
       "4     [90, 116, 29, 35, 36, 215, 217]  ...             NaN   \n",
       "...                               ...  ...             ...   \n",
       "1721                               []  ...             NaN   \n",
       "1722                               []  ...             NaN   \n",
       "1723                               []  ...             NaN   \n",
       "1724                               []  ...             NaN   \n",
       "1725                               []  ...             NaN   \n",
       "\n",
       "      cardType_displayName relatedEventId  relatedPlayerId goalMouthZ  \\\n",
       "0                      NaN            NaN              NaN        NaN   \n",
       "1                      NaN            NaN              NaN        NaN   \n",
       "2                      NaN            NaN              NaN        NaN   \n",
       "3                      NaN            NaN              NaN        NaN   \n",
       "4                      NaN            NaN              NaN        NaN   \n",
       "...                    ...            ...              ...        ...   \n",
       "1721                   NaN            NaN              NaN        NaN   \n",
       "1722                   NaN            NaN              NaN        NaN   \n",
       "1723                   NaN            NaN              NaN        NaN   \n",
       "1724                   NaN            NaN              NaN        NaN   \n",
       "1725                   NaN            NaN              NaN        NaN   \n",
       "\n",
       "      goalMouthY isShot  blockedX  blockedY  isGoal  \n",
       "0            NaN    NaN       NaN       NaN     NaN  \n",
       "1            NaN    NaN       NaN       NaN     NaN  \n",
       "2            NaN    NaN       NaN       NaN     NaN  \n",
       "3            NaN    NaN       NaN       NaN     NaN  \n",
       "4            NaN    NaN       NaN       NaN     NaN  \n",
       "...          ...    ...       ...       ...     ...  \n",
       "1721         NaN    NaN       NaN       NaN     NaN  \n",
       "1722         NaN    NaN       NaN       NaN     NaN  \n",
       "1723         NaN    NaN       NaN       NaN     NaN  \n",
       "1724         NaN    NaN       NaN       NaN     NaN  \n",
       "1725         NaN    NaN       NaN       NaN     NaN  \n",
       "\n",
       "[1726 rows x 30 columns]"
      ]
     },
     "execution_count": 38,
     "metadata": {},
     "output_type": "execute_result"
    }
   ],
   "source": [
    "from pandas.io.json import json_normalize\n",
    "df = json_normalize(data[\"events\"], sep=\"_\")\n",
    "df"
   ]
  },
  {
   "cell_type": "code",
   "execution_count": null,
   "metadata": {},
   "outputs": [],
   "source": []
  }
 ],
 "metadata": {
  "kernelspec": {
   "display_name": "Python 3",
   "language": "python",
   "name": "python3"
  },
  "language_info": {
   "codemirror_mode": {
    "name": "ipython",
    "version": 3
   },
   "file_extension": ".py",
   "mimetype": "text/x-python",
   "name": "python",
   "nbconvert_exporter": "python",
   "pygments_lexer": "ipython3",
   "version": "3.7.4"
  }
 },
 "nbformat": 4,
 "nbformat_minor": 4
}
