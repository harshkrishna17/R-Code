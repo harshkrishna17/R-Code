{
 "cells": [
  {
   "cell_type": "code",
   "execution_count": null,
   "metadata": {},
   "outputs": [],
   "source": [
    "import pandas as pd\n",
    "import json\n",
    "import os"
   ]
  },
  {
   "cell_type": "code",
   "execution_count": null,
   "metadata": {},
   "outputs": [],
   "source": [
    "def events_to_df(df):\n",
    "    '''\n",
    "    Parameters\n",
    "    ----------\n",
    "    df : Dataframe\n",
    "         The concatenated dataframe that needs to be flattened\n",
    "\n",
    "    Returns\n",
    "    -------\n",
    "    flattened_df : Dataframe\n",
    "                   The flattened dataframe after data processing and transformation\n",
    "    '''\n",
    "    satisfiedEventsTypes = pd.DataFrame(df['satisfiedEventsTypes'].tolist()).add_prefix('satisfiedEventsTypes_').reset_index(drop=True)\n",
    "    qualifiers = pd.DataFrame(df['qualifiers'].tolist()).add_prefix('qualifiers_')\n",
    "    qualifiers_json = json.loads(qualifiers.to_json(orient=\"records\"))\n",
    "    qualifiers_flat = pd.json_normalize(qualifiers_json, sep='_').reset_index(drop=True)\n",
    "    flattened_df = pd.concat([df, satisfiedEventsTypes, qualifiers_flat], axis=1).reset_index(drop=True)\n",
    "    return flattened_df"
   ]
  },
  {
   "cell_type": "markdown",
   "metadata": {},
   "source": [
    "Mention the path where you have the json files stored"
   ]
  },
  {
   "cell_type": "code",
   "execution_count": null,
   "metadata": {},
   "outputs": [],
   "source": [
    "path = \"\""
   ]
  },
  {
   "cell_type": "markdown",
   "metadata": {},
   "source": [
    "Define an empty list where you will store all the individual dataframes that we converted into from json"
   ]
  },
  {
   "cell_type": "code",
   "execution_count": null,
   "metadata": {},
   "outputs": [],
   "source": [
    "list_of_dfs = []"
   ]
  },
  {
   "cell_type": "markdown",
   "metadata": {},
   "source": [
    "Loop through the path/folder and convert each json into a dataframe, After converting into dataframe, append it to the empty list"
   ]
  },
  {
   "cell_type": "code",
   "execution_count": null,
   "metadata": {},
   "outputs": [],
   "source": [
    "for file in os.listdir(path):\n",
    "    with open(path + \"//\" + file, 'rb') as f:\n",
    "        data = json.loads(f.read())['events']\n",
    "    df = pd.json_normalize(data, sep='_')\n",
    "    list_of_dfs.append(df)\n",
    "\n",
    "concated_df = pd.concat(list_of_dfs).reset_index(drop=True)\n",
    "final_df = events_to_df(concated_df)\n",
    "final_df.to_excel(\"FullExcelData.xlsx\", index=False)"
   ]
  }
 ],
 "metadata": {
  "kernelspec": {
   "display_name": "Python 3",
   "language": "python",
   "name": "python3"
  },
  "language_info": {
   "codemirror_mode": {
    "name": "ipython",
    "version": 3
   },
   "file_extension": ".py",
   "mimetype": "text/x-python",
   "name": "python",
   "nbconvert_exporter": "python",
   "pygments_lexer": "ipython3",
   "version": "3.7.6"
  }
 },
 "nbformat": 4,
 "nbformat_minor": 4
}
